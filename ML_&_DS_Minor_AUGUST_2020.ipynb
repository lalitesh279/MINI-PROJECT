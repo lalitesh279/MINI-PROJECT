{
  "nbformat": 4,
  "nbformat_minor": 0,
  "metadata": {
    "colab": {
      "name": "ML & DS - Minor - AUGUST- 2020.ipynb",
      "provenance": [],
      "collapsed_sections": []
    },
    "kernelspec": {
      "name": "python3",
      "display_name": "Python 3"
    }
  },
  "cells": [
    {
      "cell_type": "code",
      "metadata": {
        "id": "IkPw7q4PSIPo",
        "colab_type": "code",
        "colab": {
          "base_uri": "https://localhost:8080/",
          "height": 104
        },
        "outputId": "466fa0c6-dde8-4727-84b9-560f0b1ada6d"
      },
      "source": [
        "!pip install bing-image-downloader"
      ],
      "execution_count": null,
      "outputs": [
        {
          "output_type": "stream",
          "text": [
            "Collecting bing-image-downloader\n",
            "  Downloading https://files.pythonhosted.org/packages/0d/bf/537a61030b84ae4cd5022d5c7b014fd9bc3ce7c02358919153a6658a61d3/bing_image_downloader-1.0.4-py3-none-any.whl\n",
            "Installing collected packages: bing-image-downloader\n",
            "Successfully installed bing-image-downloader-1.0.4\n"
          ],
          "name": "stdout"
        }
      ]
    },
    {
      "cell_type": "code",
      "metadata": {
        "id": "4Lg9sVjoUsja",
        "colab_type": "code",
        "colab": {
          "base_uri": "https://localhost:8080/",
          "height": 34
        },
        "outputId": "f62f6323-f194-474b-824d-6e9d1c8a5ead"
      },
      "source": [
        "!ls\n"
      ],
      "execution_count": null,
      "outputs": [
        {
          "output_type": "stream",
          "text": [
            "sample_data\n"
          ],
          "name": "stdout"
        }
      ]
    },
    {
      "cell_type": "code",
      "metadata": {
        "id": "jrtyr0-OUwPG",
        "colab_type": "code",
        "colab": {
          "base_uri": "https://localhost:8080/",
          "height": 34
        },
        "outputId": "475c4969-c34a-4d7d-c486-2253fb029de8"
      },
      "source": [
        "cd /content/drive/My Drive/smartknower"
      ],
      "execution_count": null,
      "outputs": [
        {
          "output_type": "stream",
          "text": [
            "/content/drive/My Drive/smartknower\n"
          ],
          "name": "stdout"
        }
      ]
    },
    {
      "cell_type": "code",
      "metadata": {
        "id": "YtGlvS6LW6Um",
        "colab_type": "code",
        "colab": {
          "base_uri": "https://localhost:8080/",
          "height": 34
        },
        "outputId": "32415618-3129-4d44-f2b8-0b39deacf271"
      },
      "source": [
        "!ls\n"
      ],
      "execution_count": null,
      "outputs": [
        {
          "output_type": "stream",
          "text": [
            "'Copy of Welcome To Colaboratory'   Untitled0.ipynb\n"
          ],
          "name": "stdout"
        }
      ]
    },
    {
      "cell_type": "code",
      "metadata": {
        "id": "FfdW7cQsW8OH",
        "colab_type": "code",
        "colab": {}
      },
      "source": [
        "!mkdir images"
      ],
      "execution_count": null,
      "outputs": []
    },
    {
      "cell_type": "code",
      "metadata": {
        "id": "agy8DIGqXFEM",
        "colab_type": "code",
        "colab": {
          "base_uri": "https://localhost:8080/",
          "height": 34
        },
        "outputId": "3a95c0e1-6364-4014-ecd7-61e4e05eaaf1"
      },
      "source": [
        "cd images\n"
      ],
      "execution_count": null,
      "outputs": [
        {
          "output_type": "stream",
          "text": [
            "/content/drive/My Drive/smartknower/images\n"
          ],
          "name": "stdout"
        }
      ]
    },
    {
      "cell_type": "code",
      "metadata": {
        "id": "r2iFPLXlXK1N",
        "colab_type": "code",
        "colab": {
          "base_uri": "https://localhost:8080/",
          "height": 810
        },
        "outputId": "66cf9814-d3d0-4d64-d542-87b2352ce97e"
      },
      "source": [
        "from bing_image_downloader import downloader\n",
        "downloader.download(\"orange fruit\",limit = 5, output_dir = 'images')"
      ],
      "execution_count": null,
      "outputs": [
        {
          "output_type": "stream",
          "text": [
            "\n",
            "\n",
            "[!!]Indexing page: 1\n",
            "\n",
            "[%] Indexed 5 Images on Page 1.\n",
            "\n",
            "===============================================\n",
            "\n",
            "[%] Downloading Image #1 from https://cdn.britannica.com/24/174524-050-A851D3F2/Oranges.jpg\n",
            "[%] File Downloaded !\n",
            "\n",
            "[%] Downloading Image #2 from https://www.rd.com/wp-content/uploads/2017/12/01_oranges_Finally—Here’s-Which-“Orange”-Came-First-the-Color-or-the-Fruit_691064353_Lucky-Business.jpg\n",
            "[!] Issue getting: https://www.rd.com/wp-content/uploads/2017/12/01_oranges_Finally—Here’s-Which-“Orange”-Came-First-the-Color-or-the-Fruit_691064353_Lucky-Business.jpg\n",
            "[!] Error:: 'ascii' codec can't encode character '\\u2014' in position 50: ordinal not in range(128)\n",
            "[%] Downloading Image #2 from https://upload.wikimedia.org/wikipedia/commons/thumb/7/7b/Orange-Whole-%26-Split.jpg/1200px-Orange-Whole-%26-Split.jpg\n",
            "[%] File Downloaded !\n",
            "\n",
            "[%] Downloading Image #3 from https://cmkt-image-prd.global.ssl.fastly.net/0.1.0/ps/106180/1360/1339/m1/fpnw/wm1/r2lwypowvohywa8afbljesi6k6ekb2hxcyejcv0gr94ewn8ua6oydfoix1e4mpn3-.jpg?1443446216&amp;s=9026f4a4632b1fc5ed7b7efbed4d1a74\n",
            "[!] Issue getting: https://cmkt-image-prd.global.ssl.fastly.net/0.1.0/ps/106180/1360/1339/m1/fpnw/wm1/r2lwypowvohywa8afbljesi6k6ekb2hxcyejcv0gr94ewn8ua6oydfoix1e4mpn3-.jpg?1443446216&amp;s=9026f4a4632b1fc5ed7b7efbed4d1a74\n",
            "[!] Error:: HTTP Error 403: Forbidden\n",
            "[%] Downloading Image #3 from https://media.istockphoto.com/photos/orange-fruit-tangerinecitrus-picture-id486086673?k=6&amp;m=486086673&amp;s=612x612&amp;w=0&amp;h=yi_0Lsvz2XhD2HcN167k79B0mhokGsBIYTHKgsKPV3A=\n",
            "[%] File Downloaded !\n",
            "\n",
            "\n",
            "\n",
            "[!!]Indexing page: 2\n",
            "\n",
            "[%] Indexed 35 Images on Page 2.\n",
            "\n",
            "===============================================\n",
            "\n",
            "[%] Downloading Image #4 from https://cdn.britannica.com/24/174524-050-A851D3F2/Oranges.jpg\n",
            "[%] File Downloaded !\n",
            "\n",
            "[%] Downloading Image #5 from https://www.rd.com/wp-content/uploads/2017/12/01_oranges_Finally—Here’s-Which-“Orange”-Came-First-the-Color-or-the-Fruit_691064353_Lucky-Business.jpg\n",
            "[!] Issue getting: https://www.rd.com/wp-content/uploads/2017/12/01_oranges_Finally—Here’s-Which-“Orange”-Came-First-the-Color-or-the-Fruit_691064353_Lucky-Business.jpg\n",
            "[!] Error:: 'ascii' codec can't encode character '\\u2014' in position 50: ordinal not in range(128)\n",
            "[%] Downloading Image #5 from https://upload.wikimedia.org/wikipedia/commons/thumb/7/7b/Orange-Whole-%26-Split.jpg/1200px-Orange-Whole-%26-Split.jpg\n",
            "[%] File Downloaded !\n",
            "\n",
            "\n",
            "\n",
            "[%] Done. Downloaded 5 images.\n",
            "\n",
            "===============================================\n",
            "\n"
          ],
          "name": "stdout"
        }
      ]
    },
    {
      "cell_type": "code",
      "metadata": {
        "id": "OMjulmXqXSMm",
        "colab_type": "code",
        "colab": {}
      },
      "source": [
        "downloader.download?"
      ],
      "execution_count": null,
      "outputs": []
    },
    {
      "cell_type": "code",
      "metadata": {
        "id": "SpDIpoaLXYrz",
        "colab_type": "code",
        "colab": {
          "base_uri": "https://localhost:8080/",
          "height": 286
        },
        "outputId": "2af470cb-196c-4b21-c427-5eec70521ef2"
      },
      "source": [
        "path = '/content/drive/My Drive/smartknower/images/images/orange fruit/Image_1.jpg'\n",
        "import cv2\n",
        "import matplotlib.pyplot as plt\n",
        "\n",
        "i = cv2.imread(path)\n",
        "i = cv2.cvtColor(i,cv2.COLOR_BGR2RGB)\n",
        "plt.imshow(i)"
      ],
      "execution_count": null,
      "outputs": [
        {
          "output_type": "execute_result",
          "data": {
            "text/plain": [
              "<matplotlib.image.AxesImage at 0x7f280ecaa668>"
            ]
          },
          "metadata": {
            "tags": []
          },
          "execution_count": 10
        },
        {
          "output_type": "display_data",
          "data": {
            "image/png": "[encoded data removed]",
            "text/plain": [
              "<Figure size 432x288 with 1 Axes>"
            ]
          },
          "metadata": {
            "tags": [],
            "needs_background": "light"
          }
        }
      ]
    },
    {
      "cell_type": "code",
      "metadata": {
        "id": "eEU0k1HcYEmO",
        "colab_type": "code",
        "colab": {
          "base_uri": "https://localhost:8080/",
          "height": 423
        },
        "outputId": "d30d0f19-bfe1-487e-f997-d01de731134e"
      },
      "source": [
        "downloader.download(\"lemon fruit\",limit = 5, output_dir = 'images')"
      ],
      "execution_count": null,
      "outputs": [
        {
          "output_type": "stream",
          "text": [
            "\n",
            "\n",
            "[!!]Indexing page: 1\n",
            "\n",
            "[%] Indexed 5 Images on Page 1.\n",
            "\n",
            "===============================================\n",
            "\n",
            "[%] Downloading Image #1 from https://www.planetorganic.com/images/products/large/1842.jpg\n",
            "[%] File Downloaded !\n",
            "\n",
            "[%] Downloading Image #2 from http://images6.fanpop.com/image/photos/34900000/Lemon-fruit-34914820-1000-1000.jpg\n",
            "[%] File Downloaded !\n",
            "\n",
            "[%] Downloading Image #3 from https://cdn.nippys.com.au/nippys-website/site/wp-content/uploads/2016/12/13113305/Fruit_Lemons.jpg\n",
            "[%] File Downloaded !\n",
            "\n",
            "[%] Downloading Image #4 from https://images.homedepot-static.com/productImages/c6b87606-9631-4f2b-ad36-f087c75db5ce/svn/bloomsz-fruit-trees-plants-00416-64_1000.jpg\n",
            "[%] File Downloaded !\n",
            "\n",
            "[%] Downloading Image #5 from https://media.buzzle.com/media/images-en/gallery/vegetables/1200-167622042-lemons.jpg\n",
            "[%] File Downloaded !\n",
            "\n"
          ],
          "name": "stdout"
        }
      ]
    },
    {
      "cell_type": "code",
      "metadata": {
        "id": "iRfSPILzYL1T",
        "colab_type": "code",
        "colab": {
          "base_uri": "https://localhost:8080/",
          "height": 101
        },
        "outputId": "628819cd-c247-498b-de07-b7cf4dd309f5"
      },
      "source": [
        "import os\n",
        "import cv2\n",
        "path = '/content/drive/My Drive/smartknower/images/images/orange fruit'\n",
        "for filename in os.listdir(path):\n",
        "  i = cv2.imread(os.path.join(path,filename))\n",
        "  print(i.shape)\n"
      ],
      "execution_count": null,
      "outputs": [
        {
          "output_type": "stream",
          "text": [
            "(1064, 1600, 3)\n",
            "(626, 1200, 3)\n",
            "(1024, 1024, 3)\n",
            "(1064, 1600, 3)\n",
            "(626, 1200, 3)\n"
          ],
          "name": "stdout"
        }
      ]
    },
    {
      "cell_type": "code",
      "metadata": {
        "id": "KPHqtDceYo7A",
        "colab_type": "code",
        "colab": {}
      },
      "source": [
        "import os\n",
        "from skimage.io import imread\n",
        "from skimage.transform import resize"
      ],
      "execution_count": null,
      "outputs": []
    },
    {
      "cell_type": "code",
      "metadata": {
        "id": "NFDBfU0pY2HF",
        "colab_type": "code",
        "colab": {
          "base_uri": "https://localhost:8080/",
          "height": 67
        },
        "outputId": "f12cf13e-4773-4dcd-df82-f33069f1005a"
      },
      "source": [
        "target = []   \n",
        "flat_data = []  \n",
        "images= []\n",
        "path = '/content/drive/My Drive/smartknower/images/images/'\n",
        "for dirpath, dirnames, filenames in os.walk(path):\n",
        "  for filename in filenames:\n",
        "    category = dirpath.split('/')[-1]\n",
        "    target.append(category)\n",
        "    img = imread(f'{path}{category}/{filename}')\n",
        "    img_resized = resize(img,(50,50,3))  # Scaling down\n",
        "    flat_data.append(img_resized.flatten())\n",
        "    images.append(img_resized)\n",
        "\n",
        "flat_data = np.array(flat_data)\n",
        "target = np.array(target)\n",
        "images = np.array(images)\n",
        "\n",
        "print(flat_data.shape)\n",
        "print(target.shape)\n",
        "print(images.shape)"
      ],
      "execution_count": null,
      "outputs": [
        {
          "output_type": "stream",
          "text": [
            "(10, 7500)\n",
            "(10,)\n",
            "(10, 50, 50, 3)\n"
          ],
          "name": "stdout"
        }
      ]
    },
    {
      "cell_type": "code",
      "metadata": {
        "id": "QaJUos1-ZK8p",
        "colab_type": "code",
        "colab": {}
      },
      "source": [
        "import pandas as pd\n",
        "df = pd.DataFrame(flat_data)\n",
        "df['Target'] = target"
      ],
      "execution_count": null,
      "outputs": []
    },
    {
      "cell_type": "code",
      "metadata": {
        "id": "Q6rffAs1ZRZH",
        "colab_type": "code",
        "colab": {
          "base_uri": "https://localhost:8080/",
          "height": 328
        },
        "outputId": "b1f0b5d6-0037-45b9-db66-e594be250870"
      },
      "source": [
        "df.head()"
      ],
      "execution_count": null,
      "outputs": [
        {
          "output_type": "execute_result",
          "data": {
            "text/html": [
              "<div>\n",
              "<style scoped>\n",
              "    .dataframe tbody tr th:only-of-type {\n",
              "        vertical-align: middle;\n",
              "    }\n",
              "\n",
              "    .dataframe tbody tr th {\n",
              "        vertical-align: top;\n",
              "    }\n",
              "\n",
              "    .dataframe thead th {\n",
              "        text-align: right;\n",
              "    }\n",
              "</style>\n",
              "<table border=\"1\" class=\"dataframe\">\n",
              "  <thead>\n",
              "    <tr style=\"text-align: right;\">\n",
              "      <th></th>\n",
              "      <th>0</th>\n",
              "      <th>1</th>\n",
              "      <th>2</th>\n",
              "      <th>3</th>\n",
              "      <th>4</th>\n",
              "      <th>5</th>\n",
              "      <th>6</th>\n",
              "      <th>7</th>\n",
              "      <th>8</th>\n",
              "      <th>9</th>\n",
              "      <th>10</th>\n",
              "      <th>11</th>\n",
              "      <th>12</th>\n",
              "      <th>13</th>\n",
              "      <th>14</th>\n",
              "      <th>15</th>\n",
              "      <th>16</th>\n",
              "      <th>17</th>\n",
              "      <th>18</th>\n",
              "      <th>19</th>\n",
              "      <th>20</th>\n",
              "      <th>21</th>\n",
              "      <th>22</th>\n",
              "      <th>23</th>\n",
              "      <th>24</th>\n",
              "      <th>25</th>\n",
              "      <th>26</th>\n",
              "      <th>27</th>\n",
              "      <th>28</th>\n",
              "      <th>29</th>\n",
              "      <th>30</th>\n",
              "      <th>31</th>\n",
              "      <th>32</th>\n",
              "      <th>33</th>\n",
              "      <th>34</th>\n",
              "      <th>35</th>\n",
              "      <th>36</th>\n",
              "      <th>37</th>\n",
              "      <th>38</th>\n",
              "      <th>39</th>\n",
              "      <th>...</th>\n",
              "      <th>7461</th>\n",
              "      <th>7462</th>\n",
              "      <th>7463</th>\n",
              "      <th>7464</th>\n",
              "      <th>7465</th>\n",
              "      <th>7466</th>\n",
              "      <th>7467</th>\n",
              "      <th>7468</th>\n",
              "      <th>7469</th>\n",
              "      <th>7470</th>\n",
              "      <th>7471</th>\n",
              "      <th>7472</th>\n",
              "      <th>7473</th>\n",
              "      <th>7474</th>\n",
              "      <th>7475</th>\n",
              "      <th>7476</th>\n",
              "      <th>7477</th>\n",
              "      <th>7478</th>\n",
              "      <th>7479</th>\n",
              "      <th>7480</th>\n",
              "      <th>7481</th>\n",
              "      <th>7482</th>\n",
              "      <th>7483</th>\n",
              "      <th>7484</th>\n",
              "      <th>7485</th>\n",
              "      <th>7486</th>\n",
              "      <th>7487</th>\n",
              "      <th>7488</th>\n",
              "      <th>7489</th>\n",
              "      <th>7490</th>\n",
              "      <th>7491</th>\n",
              "      <th>7492</th>\n",
              "      <th>7493</th>\n",
              "      <th>7494</th>\n",
              "      <th>7495</th>\n",
              "      <th>7496</th>\n",
              "      <th>7497</th>\n",
              "      <th>7498</th>\n",
              "      <th>7499</th>\n",
              "      <th>Target</th>\n",
              "    </tr>\n",
              "  </thead>\n",
              "  <tbody>\n",
              "    <tr>\n",
              "      <th>0</th>\n",
              "      <td>0.741451</td>\n",
              "      <td>0.559373</td>\n",
              "      <td>0.318745</td>\n",
              "      <td>0.654902</td>\n",
              "      <td>0.327451</td>\n",
              "      <td>0.011765</td>\n",
              "      <td>0.658275</td>\n",
              "      <td>0.280392</td>\n",
              "      <td>0.000000</td>\n",
              "      <td>0.639216</td>\n",
              "      <td>0.262745</td>\n",
              "      <td>0.003922</td>\n",
              "      <td>0.586275</td>\n",
              "      <td>0.235020</td>\n",
              "      <td>0.015686</td>\n",
              "      <td>0.556314</td>\n",
              "      <td>0.166667</td>\n",
              "      <td>0.003922</td>\n",
              "      <td>0.566392</td>\n",
              "      <td>0.152941</td>\n",
              "      <td>0.000000</td>\n",
              "      <td>0.576471</td>\n",
              "      <td>0.149020</td>\n",
              "      <td>0.000000</td>\n",
              "      <td>0.586000</td>\n",
              "      <td>0.145098</td>\n",
              "      <td>0.000000</td>\n",
              "      <td>0.591882</td>\n",
              "      <td>0.145098</td>\n",
              "      <td>0.000000</td>\n",
              "      <td>0.603922</td>\n",
              "      <td>0.149020</td>\n",
              "      <td>0.000000</td>\n",
              "      <td>0.623529</td>\n",
              "      <td>0.156863</td>\n",
              "      <td>0.000000</td>\n",
              "      <td>0.631373</td>\n",
              "      <td>0.152941</td>\n",
              "      <td>0.000000</td>\n",
              "      <td>0.627451</td>\n",
              "      <td>...</td>\n",
              "      <td>0.874510</td>\n",
              "      <td>0.433608</td>\n",
              "      <td>0.003922</td>\n",
              "      <td>0.901961</td>\n",
              "      <td>0.464980</td>\n",
              "      <td>0.003922</td>\n",
              "      <td>0.931647</td>\n",
              "      <td>0.494118</td>\n",
              "      <td>0.003922</td>\n",
              "      <td>0.960784</td>\n",
              "      <td>0.521569</td>\n",
              "      <td>0.003922</td>\n",
              "      <td>0.972549</td>\n",
              "      <td>0.533333</td>\n",
              "      <td>0.000000</td>\n",
              "      <td>0.952941</td>\n",
              "      <td>0.526039</td>\n",
              "      <td>0.000000</td>\n",
              "      <td>0.937255</td>\n",
              "      <td>0.514000</td>\n",
              "      <td>0.000000</td>\n",
              "      <td>0.896353</td>\n",
              "      <td>0.488510</td>\n",
              "      <td>0.007843</td>\n",
              "      <td>0.801961</td>\n",
              "      <td>0.539216</td>\n",
              "      <td>0.247333</td>\n",
              "      <td>0.743137</td>\n",
              "      <td>0.645098</td>\n",
              "      <td>0.560784</td>\n",
              "      <td>0.644549</td>\n",
              "      <td>0.525216</td>\n",
              "      <td>0.421569</td>\n",
              "      <td>0.522980</td>\n",
              "      <td>0.332784</td>\n",
              "      <td>0.207569</td>\n",
              "      <td>0.455176</td>\n",
              "      <td>0.180392</td>\n",
              "      <td>0.041176</td>\n",
              "      <td>orange fruit</td>\n",
              "    </tr>\n",
              "    <tr>\n",
              "      <th>1</th>\n",
              "      <td>1.000000</td>\n",
              "      <td>1.000000</td>\n",
              "      <td>1.000000</td>\n",
              "      <td>1.000000</td>\n",
              "      <td>1.000000</td>\n",
              "      <td>1.000000</td>\n",
              "      <td>1.000000</td>\n",
              "      <td>1.000000</td>\n",
              "      <td>1.000000</td>\n",
              "      <td>1.000000</td>\n",
              "      <td>1.000000</td>\n",
              "      <td>1.000000</td>\n",
              "      <td>1.000000</td>\n",
              "      <td>1.000000</td>\n",
              "      <td>1.000000</td>\n",
              "      <td>1.000000</td>\n",
              "      <td>1.000000</td>\n",
              "      <td>1.000000</td>\n",
              "      <td>1.000000</td>\n",
              "      <td>1.000000</td>\n",
              "      <td>1.000000</td>\n",
              "      <td>1.000000</td>\n",
              "      <td>1.000000</td>\n",
              "      <td>1.000000</td>\n",
              "      <td>1.000000</td>\n",
              "      <td>1.000000</td>\n",
              "      <td>1.000000</td>\n",
              "      <td>1.000000</td>\n",
              "      <td>1.000000</td>\n",
              "      <td>1.000000</td>\n",
              "      <td>1.000000</td>\n",
              "      <td>1.000000</td>\n",
              "      <td>1.000000</td>\n",
              "      <td>1.000000</td>\n",
              "      <td>1.000000</td>\n",
              "      <td>1.000000</td>\n",
              "      <td>1.000000</td>\n",
              "      <td>1.000000</td>\n",
              "      <td>1.000000</td>\n",
              "      <td>1.000000</td>\n",
              "      <td>...</td>\n",
              "      <td>1.000000</td>\n",
              "      <td>1.000000</td>\n",
              "      <td>1.000000</td>\n",
              "      <td>1.000000</td>\n",
              "      <td>1.000000</td>\n",
              "      <td>1.000000</td>\n",
              "      <td>1.000000</td>\n",
              "      <td>1.000000</td>\n",
              "      <td>1.000000</td>\n",
              "      <td>1.000000</td>\n",
              "      <td>1.000000</td>\n",
              "      <td>1.000000</td>\n",
              "      <td>1.000000</td>\n",
              "      <td>1.000000</td>\n",
              "      <td>1.000000</td>\n",
              "      <td>1.000000</td>\n",
              "      <td>1.000000</td>\n",
              "      <td>1.000000</td>\n",
              "      <td>1.000000</td>\n",
              "      <td>1.000000</td>\n",
              "      <td>1.000000</td>\n",
              "      <td>1.000000</td>\n",
              "      <td>1.000000</td>\n",
              "      <td>1.000000</td>\n",
              "      <td>1.000000</td>\n",
              "      <td>1.000000</td>\n",
              "      <td>1.000000</td>\n",
              "      <td>1.000000</td>\n",
              "      <td>1.000000</td>\n",
              "      <td>1.000000</td>\n",
              "      <td>1.000000</td>\n",
              "      <td>1.000000</td>\n",
              "      <td>1.000000</td>\n",
              "      <td>1.000000</td>\n",
              "      <td>1.000000</td>\n",
              "      <td>1.000000</td>\n",
              "      <td>1.000000</td>\n",
              "      <td>1.000000</td>\n",
              "      <td>1.000000</td>\n",
              "      <td>orange fruit</td>\n",
              "    </tr>\n",
              "    <tr>\n",
              "      <th>2</th>\n",
              "      <td>0.992157</td>\n",
              "      <td>0.992157</td>\n",
              "      <td>0.992157</td>\n",
              "      <td>0.992157</td>\n",
              "      <td>0.992157</td>\n",
              "      <td>0.992157</td>\n",
              "      <td>0.992157</td>\n",
              "      <td>0.992157</td>\n",
              "      <td>0.992157</td>\n",
              "      <td>0.992157</td>\n",
              "      <td>0.992157</td>\n",
              "      <td>0.992157</td>\n",
              "      <td>0.992157</td>\n",
              "      <td>0.992157</td>\n",
              "      <td>0.992157</td>\n",
              "      <td>0.992157</td>\n",
              "      <td>0.992157</td>\n",
              "      <td>0.992157</td>\n",
              "      <td>0.992157</td>\n",
              "      <td>0.992157</td>\n",
              "      <td>0.992157</td>\n",
              "      <td>0.992157</td>\n",
              "      <td>0.992157</td>\n",
              "      <td>0.992157</td>\n",
              "      <td>0.992157</td>\n",
              "      <td>0.992157</td>\n",
              "      <td>0.992157</td>\n",
              "      <td>0.992157</td>\n",
              "      <td>0.992157</td>\n",
              "      <td>0.992157</td>\n",
              "      <td>0.992157</td>\n",
              "      <td>0.992157</td>\n",
              "      <td>0.992157</td>\n",
              "      <td>0.992157</td>\n",
              "      <td>0.992157</td>\n",
              "      <td>0.992157</td>\n",
              "      <td>0.992157</td>\n",
              "      <td>0.992157</td>\n",
              "      <td>0.992157</td>\n",
              "      <td>0.992157</td>\n",
              "      <td>...</td>\n",
              "      <td>0.992157</td>\n",
              "      <td>0.992157</td>\n",
              "      <td>0.992157</td>\n",
              "      <td>0.992157</td>\n",
              "      <td>0.992157</td>\n",
              "      <td>0.992157</td>\n",
              "      <td>0.992157</td>\n",
              "      <td>0.992157</td>\n",
              "      <td>0.992157</td>\n",
              "      <td>0.992157</td>\n",
              "      <td>0.992157</td>\n",
              "      <td>0.992157</td>\n",
              "      <td>0.992157</td>\n",
              "      <td>0.992157</td>\n",
              "      <td>0.992157</td>\n",
              "      <td>0.992157</td>\n",
              "      <td>0.992157</td>\n",
              "      <td>0.992157</td>\n",
              "      <td>0.992157</td>\n",
              "      <td>0.992157</td>\n",
              "      <td>0.992157</td>\n",
              "      <td>0.992157</td>\n",
              "      <td>0.992157</td>\n",
              "      <td>0.992157</td>\n",
              "      <td>0.992157</td>\n",
              "      <td>0.992157</td>\n",
              "      <td>0.992157</td>\n",
              "      <td>0.992157</td>\n",
              "      <td>0.992157</td>\n",
              "      <td>0.992157</td>\n",
              "      <td>0.992157</td>\n",
              "      <td>0.992157</td>\n",
              "      <td>0.992157</td>\n",
              "      <td>0.992157</td>\n",
              "      <td>0.992157</td>\n",
              "      <td>0.992157</td>\n",
              "      <td>0.992157</td>\n",
              "      <td>0.992157</td>\n",
              "      <td>0.992157</td>\n",
              "      <td>orange fruit</td>\n",
              "    </tr>\n",
              "    <tr>\n",
              "      <th>3</th>\n",
              "      <td>0.741451</td>\n",
              "      <td>0.559373</td>\n",
              "      <td>0.318745</td>\n",
              "      <td>0.654902</td>\n",
              "      <td>0.327451</td>\n",
              "      <td>0.011765</td>\n",
              "      <td>0.658275</td>\n",
              "      <td>0.280392</td>\n",
              "      <td>0.000000</td>\n",
              "      <td>0.639216</td>\n",
              "      <td>0.262745</td>\n",
              "      <td>0.003922</td>\n",
              "      <td>0.586275</td>\n",
              "      <td>0.235020</td>\n",
              "      <td>0.015686</td>\n",
              "      <td>0.556314</td>\n",
              "      <td>0.166667</td>\n",
              "      <td>0.003922</td>\n",
              "      <td>0.566392</td>\n",
              "      <td>0.152941</td>\n",
              "      <td>0.000000</td>\n",
              "      <td>0.576471</td>\n",
              "      <td>0.149020</td>\n",
              "      <td>0.000000</td>\n",
              "      <td>0.586000</td>\n",
              "      <td>0.145098</td>\n",
              "      <td>0.000000</td>\n",
              "      <td>0.591882</td>\n",
              "      <td>0.145098</td>\n",
              "      <td>0.000000</td>\n",
              "      <td>0.603922</td>\n",
              "      <td>0.149020</td>\n",
              "      <td>0.000000</td>\n",
              "      <td>0.623529</td>\n",
              "      <td>0.156863</td>\n",
              "      <td>0.000000</td>\n",
              "      <td>0.631373</td>\n",
              "      <td>0.152941</td>\n",
              "      <td>0.000000</td>\n",
              "      <td>0.627451</td>\n",
              "      <td>...</td>\n",
              "      <td>0.874510</td>\n",
              "      <td>0.433608</td>\n",
              "      <td>0.003922</td>\n",
              "      <td>0.901961</td>\n",
              "      <td>0.464980</td>\n",
              "      <td>0.003922</td>\n",
              "      <td>0.931647</td>\n",
              "      <td>0.494118</td>\n",
              "      <td>0.003922</td>\n",
              "      <td>0.960784</td>\n",
              "      <td>0.521569</td>\n",
              "      <td>0.003922</td>\n",
              "      <td>0.972549</td>\n",
              "      <td>0.533333</td>\n",
              "      <td>0.000000</td>\n",
              "      <td>0.952941</td>\n",
              "      <td>0.526039</td>\n",
              "      <td>0.000000</td>\n",
              "      <td>0.937255</td>\n",
              "      <td>0.514000</td>\n",
              "      <td>0.000000</td>\n",
              "      <td>0.896353</td>\n",
              "      <td>0.488510</td>\n",
              "      <td>0.007843</td>\n",
              "      <td>0.801961</td>\n",
              "      <td>0.539216</td>\n",
              "      <td>0.247333</td>\n",
              "      <td>0.743137</td>\n",
              "      <td>0.645098</td>\n",
              "      <td>0.560784</td>\n",
              "      <td>0.644549</td>\n",
              "      <td>0.525216</td>\n",
              "      <td>0.421569</td>\n",
              "      <td>0.522980</td>\n",
              "      <td>0.332784</td>\n",
              "      <td>0.207569</td>\n",
              "      <td>0.455176</td>\n",
              "      <td>0.180392</td>\n",
              "      <td>0.041176</td>\n",
              "      <td>orange fruit</td>\n",
              "    </tr>\n",
              "    <tr>\n",
              "      <th>4</th>\n",
              "      <td>1.000000</td>\n",
              "      <td>1.000000</td>\n",
              "      <td>1.000000</td>\n",
              "      <td>1.000000</td>\n",
              "      <td>1.000000</td>\n",
              "      <td>1.000000</td>\n",
              "      <td>1.000000</td>\n",
              "      <td>1.000000</td>\n",
              "      <td>1.000000</td>\n",
              "      <td>1.000000</td>\n",
              "      <td>1.000000</td>\n",
              "      <td>1.000000</td>\n",
              "      <td>1.000000</td>\n",
              "      <td>1.000000</td>\n",
              "      <td>1.000000</td>\n",
              "      <td>1.000000</td>\n",
              "      <td>1.000000</td>\n",
              "      <td>1.000000</td>\n",
              "      <td>1.000000</td>\n",
              "      <td>1.000000</td>\n",
              "      <td>1.000000</td>\n",
              "      <td>1.000000</td>\n",
              "      <td>1.000000</td>\n",
              "      <td>1.000000</td>\n",
              "      <td>1.000000</td>\n",
              "      <td>1.000000</td>\n",
              "      <td>1.000000</td>\n",
              "      <td>1.000000</td>\n",
              "      <td>1.000000</td>\n",
              "      <td>1.000000</td>\n",
              "      <td>1.000000</td>\n",
              "      <td>1.000000</td>\n",
              "      <td>1.000000</td>\n",
              "      <td>1.000000</td>\n",
              "      <td>1.000000</td>\n",
              "      <td>1.000000</td>\n",
              "      <td>1.000000</td>\n",
              "      <td>1.000000</td>\n",
              "      <td>1.000000</td>\n",
              "      <td>1.000000</td>\n",
              "      <td>...</td>\n",
              "      <td>1.000000</td>\n",
              "      <td>1.000000</td>\n",
              "      <td>1.000000</td>\n",
              "      <td>1.000000</td>\n",
              "      <td>1.000000</td>\n",
              "      <td>1.000000</td>\n",
              "      <td>1.000000</td>\n",
              "      <td>1.000000</td>\n",
              "      <td>1.000000</td>\n",
              "      <td>1.000000</td>\n",
              "      <td>1.000000</td>\n",
              "      <td>1.000000</td>\n",
              "      <td>1.000000</td>\n",
              "      <td>1.000000</td>\n",
              "      <td>1.000000</td>\n",
              "      <td>1.000000</td>\n",
              "      <td>1.000000</td>\n",
              "      <td>1.000000</td>\n",
              "      <td>1.000000</td>\n",
              "      <td>1.000000</td>\n",
              "      <td>1.000000</td>\n",
              "      <td>1.000000</td>\n",
              "      <td>1.000000</td>\n",
              "      <td>1.000000</td>\n",
              "      <td>1.000000</td>\n",
              "      <td>1.000000</td>\n",
              "      <td>1.000000</td>\n",
              "      <td>1.000000</td>\n",
              "      <td>1.000000</td>\n",
              "      <td>1.000000</td>\n",
              "      <td>1.000000</td>\n",
              "      <td>1.000000</td>\n",
              "      <td>1.000000</td>\n",
              "      <td>1.000000</td>\n",
              "      <td>1.000000</td>\n",
              "      <td>1.000000</td>\n",
              "      <td>1.000000</td>\n",
              "      <td>1.000000</td>\n",
              "      <td>1.000000</td>\n",
              "      <td>orange fruit</td>\n",
              "    </tr>\n",
              "  </tbody>\n",
              "</table>\n",
              "<p>5 rows × 7501 columns</p>\n",
              "</div>"
            ],
            "text/plain": [
              "          0         1         2  ...      7498      7499        Target\n",
              "0  0.741451  0.559373  0.318745  ...  0.180392  0.041176  orange fruit\n",
              "1  1.000000  1.000000  1.000000  ...  1.000000  1.000000  orange fruit\n",
              "2  0.992157  0.992157  0.992157  ...  0.992157  0.992157  orange fruit\n",
              "3  0.741451  0.559373  0.318745  ...  0.180392  0.041176  orange fruit\n",
              "4  1.000000  1.000000  1.000000  ...  1.000000  1.000000  orange fruit\n",
              "\n",
              "[5 rows x 7501 columns]"
            ]
          },
          "metadata": {
            "tags": []
          },
          "execution_count": 16
        }
      ]
    },
    {
      "cell_type": "code",
      "metadata": {
        "id": "7krGBHzsZXpB",
        "colab_type": "code",
        "colab": {}
      },
      "source": [
        "os.walk?\n"
      ],
      "execution_count": null,
      "outputs": []
    },
    {
      "cell_type": "code",
      "metadata": {
        "id": "8fcmIeWiZbnB",
        "colab_type": "code",
        "colab": {
          "base_uri": "https://localhost:8080/",
          "height": 50
        },
        "outputId": "6606b809-dee1-4484-e509-3500a89cc2ad"
      },
      "source": [
        "import numpy as np\n",
        "\n",
        "a = np.array([[1,2],[3,4]])\n",
        "a"
      ],
      "execution_count": null,
      "outputs": [
        {
          "output_type": "execute_result",
          "data": {
            "text/plain": [
              "array([[1, 2],\n",
              "       [3, 4]])"
            ]
          },
          "metadata": {
            "tags": []
          },
          "execution_count": 18
        }
      ]
    },
    {
      "cell_type": "code",
      "metadata": {
        "id": "ngpfWte5ZhmU",
        "colab_type": "code",
        "colab": {}
      },
      "source": [
        ""
      ],
      "execution_count": null,
      "outputs": []
    }
  ]
}